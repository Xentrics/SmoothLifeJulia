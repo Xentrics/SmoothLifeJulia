{
 "cells": [
  {
   "cell_type": "code",
   "execution_count": 1,
   "metadata": {
    "collapsed": false
   },
   "outputs": [
    {
     "name": "stderr",
     "output_type": "stream",
     "text": [
      "\u001b[1m\u001b[34mINFO: Recompiling stale cache file /home/xentrics/.julia/lib/v0.5/Images.ji for module Images.\n",
      "\u001b[0m\u001b[1m\u001b[34mINFO: Recompiling stale cache file /home/xentrics/.julia/lib/v0.5/PyPlot.ji for module PyPlot.\n",
      "\u001b[0m\u001b[1m\u001b[34mINFO: Recompiling stale cache file /home/xentrics/.julia/lib/v0.5/Docile.ji for module Docile.\n",
      "\u001b[0mWARNING: Base.LambdaStaticData is deprecated, use LambdaInfo instead.\n",
      "  likely near /home/xentrics/.julia/v0.5/Docile/src/Utilities.jl:122\n",
      "\u001b[1m\u001b[31mWARNING: symbol is deprecated, use Symbol instead.\u001b[0m\n",
      " in depwarn(::String, ::Symbol) at ./deprecated.jl:64\n",
      " in symbol(::SubString{String}, ::Vararg{SubString{String},N}) at ./deprecated.jl:30\n",
      " in collect(::Base.Generator{Array{SubString{String},1},Docile.Utilities.##2#4}) at ./array.jl:307\n",
      " in @H_str(::Any) at /home/xentrics/.julia/v0.5/Docile/src/Utilities.jl:17\n",
      " in include_from_node1(::String) at ./loading.jl:488 (repeats 3 times)\n",
      " in macro expansion; at ./none:2 [inlined]\n",
      " in anonymous at ./<missing>:?\n",
      " in eval(::Module, ::Any) at ./boot.jl:234\n",
      " in process_options(::Base.JLOptions) at ./client.jl:242\n",
      " in _start() at ./client.jl:321\n",
      "while loading /home/xentrics/.julia/v0.5/Docile/src/Runner/lookup.jl, in expression starting on line 95\n",
      "\u001b[1m\u001b[31mWARNING: symbol is deprecated, use Symbol instead.\u001b[0m\n",
      " in depwarn(::String, ::Symbol) at ./deprecated.jl:64\n",
      " in symbol(::SubString{String}, ::Vararg{SubString{String},N}) at ./deprecated.jl:30\n",
      " in collect_to!(::Array{DataType,1}, ::Base.Generator{Array{SubString{String},1},Docile.Utilities.##2#4}, ::Int64, ::Int64) at ./array.jl:340\n",
      " in collect_to_with_first!(::Array{DataType,1}, ::Type{T}, ::Base.Generator{Array{SubString{String},1},Docile.Utilities.##2#4}, ::Int64) at ./array.jl:327\n",
      " in collect(::Base.Generator{Array{SubString{String},1},Docile.Utilities.##2#4}) at ./array.jl:308\n",
      " in @H_str(::Any) at /home/xentrics/.julia/v0.5/Docile/src/Utilities.jl:17\n",
      " in include_from_node1(::String) at ./loading.jl:488 (repeats 3 times)\n",
      " in macro expansion; at ./none:2 [inlined]\n",
      " in anonymous at ./<missing>:?\n",
      " in eval(::Module, ::Any) at ./boot.jl:234\n",
      " in process_options(::Base.JLOptions) at ./client.jl:242\n",
      " in _start() at ./client.jl:321\n",
      "while loading /home/xentrics/.julia/v0.5/Docile/src/Runner/lookup.jl, in expression starting on line 122\n",
      "WARNING: Base.UTF8String is deprecated, use String instead.\n",
      "  likely near /home/xentrics/.julia/v0.5/Docile/src/Collector/utilities.jl:480\n",
      "WARNING: Base.UTF8String is deprecated, use String instead.\n",
      "  likely near /home/xentrics/.julia/v0.5/Docile/src/Collector/utilities.jl:481\n",
      "WARNING: Base.UTF8String is deprecated, use String instead.\n",
      "  likely near /home/xentrics/.julia/v0.5/Docile/src/Collector/types.jl:480\n",
      "WARNING: Base.UTF8String is deprecated, use String instead.\n",
      "  likely near /home/xentrics/.julia/v0.5/Docile/src/Collector/types.jl:480\n",
      "WARNING: Base.UTF8String is deprecated, use String instead.\n",
      "  likely near /home/xentrics/.julia/v0.5/Docile/src/Collector/types.jl:480\n",
      "WARNING: Base.UTF8String is deprecated, use String instead.\n",
      "  likely near /home/xentrics/.julia/v0.5/Docile/src/Collector/types.jl:480\n",
      "WARNING: Base.UTF8String is deprecated, use String instead.\n",
      "  likely near /home/xentrics/.julia/v0.5/Docile/src/Collector/types.jl:480\n",
      "WARNING: Base.UTF8String is deprecated, use String instead.\n",
      "  likely near /home/xentrics/.julia/v0.5/Docile/src/Collector/types.jl:480\n",
      "WARNING: Base.UTF8String is deprecated, use String instead.\n",
      "  likely near /home/xentrics/.julia/v0.5/Docile/src/Collector/types.jl:480\n",
      "WARNING: Base.UTF8String is deprecated, use String instead.\n",
      "  likely near /home/xentrics/.julia/v0.5/Docile/src/Collector/types.jl:480\n",
      "WARNING: Base.writemime is deprecated.\n",
      "  likely near /home/xentrics/.julia/v0.5/Docile/src/Collector/types.jl:49\n",
      "\n",
      "WARNING: deprecated syntax \"[a=>b for (a,b) in c]\".\n",
      "Use \"Dict(a=>b for (a,b) in c)\" instead.\n",
      "\n",
      "WARNING: deprecated syntax \"[a=>b for (a,b) in c]\".\n",
      "Use \"Dict(a=>b for (a,b) in c)\" instead.\n",
      "\n",
      "WARNING: deprecated syntax \"[a=>b for (a,b) in c]\".\n",
      "Use \"Dict(a=>b for (a,b) in c)\" instead.\n",
      "WARNING: Base.UTF8String is deprecated, use String instead.\n",
      "  likely near /home/xentrics/.julia/v0.5/Docile/src/Collector/types.jl:480\n",
      "WARNING: Base.writemime is deprecated.\n",
      "  likely near /home/xentrics/.julia/v0.5/Docile/src/Collector/types.jl:151\n",
      "WARNING: Base.UTF8String is deprecated, use String instead.\n",
      "  likely near /home/xentrics/.julia/v0.5/Docile/src/Cache/types.jl:14\n",
      "WARNING: Base.UTF8String is deprecated, use String instead.\n",
      "  likely near /home/xentrics/.julia/v0.5/Docile/src/Cache/types.jl:38\n",
      "WARNING: Base.UTF8String is deprecated, use String instead.\n",
      "  likely near /home/xentrics/.julia/v0.5/Docile/src/Cache/interface.jl:1\n",
      "WARNING: Base.UTF8String is deprecated, use String instead.\n",
      "  likely near /home/xentrics/.julia/v0.5/Docile/src/Cache/interface.jl:1\n",
      "WARNING: Base.UTF8String is deprecated, use String instead.\n",
      "  likely near /home/xentrics/.julia/v0.5/Docile/src/Cache/interface.jl:1\n",
      "WARNING: Base.UTF8String is deprecated, use String instead.\n",
      "  likely near /home/xentrics/.julia/v0.5/Docile/src/Cache/interface.jl:1\n",
      "WARNING: Base.UTF8String is deprecated, use String instead.\n",
      "  likely near /home/xentrics/.julia/v0.5/Docile/src/Cache/interface.jl:1\n",
      "WARNING: Base.UTF8String is deprecated, use String instead.\n",
      "  likely near /home/xentrics/.julia/v0.5/Docile/src/Cache/interface.jl:1\n",
      "WARNING: Base.UTF8String is deprecated, use String instead.\n",
      "  likely near /home/xentrics/.julia/v0.5/Docile/src/Legacy/types.jl:53\n",
      "WARNING: Base.UTF8String is deprecated, use String instead.\n",
      "  likely near /home/xentrics/.julia/v0.5/Docile/src/Legacy/types.jl:53\n",
      "WARNING: Base.UTF8String is deprecated, use String instead.\n",
      "  likely near /home/xentrics/.julia/v0.5/Docile/src/Legacy/types.jl:53\n",
      "WARNING: Base.UTF8String is deprecated, use String instead.\n",
      "  likely near /home/xentrics/.julia/v0.5/Docile/src/Legacy/types.jl:53\n",
      "\u001b[1m\u001b[31mWARNING: symbol is deprecated, use Symbol instead.\u001b[0m\n",
      " in depwarn(::String, ::Symbol) at ./deprecated.jl:64\n",
      " in symbol(::String, ::Vararg{String,N}) at ./deprecated.jl:30\n",
      " in @META_str(::String, ::Vararg{String,N}) at /home/xentrics/.julia/v0.5/Docile/src/Formats/metaparse.jl:52\n",
      " in docm(::String, ::Expr, ::Bool) at ./docs/Docs.jl:605 (repeats 2 times)\n",
      " in @doc(::String, ::Vararg{Any,N}) at ./boot.jl:340\n",
      " in include_from_node1(::String) at ./loading.jl:488 (repeats 2 times)\n",
      " in macro expansion; at ./none:2 [inlined]\n",
      " in anonymous at ./<missing>:?\n",
      " in eval(::Module, ::Any) at ./boot.jl:234\n",
      " in process_options(::Base.JLOptions) at ./client.jl:242\n",
      " in _start() at ./client.jl:321\n",
      "while loading /home/xentrics/.julia/v0.5/Docile/src/Extensions/Extensions.jl, in expression starting on line 16\n"
     ]
    }
   ],
   "source": [
    "using Images, PyPlot, PyCall, Docile\n",
    "@pyimport matplotlib.cm as cm"
   ]
  },
  {
   "cell_type": "code",
   "execution_count": 2,
   "metadata": {
    "collapsed": false
   },
   "outputs": [
    {
     "data": {
      "text/plain": [
       "makeOuterMaskSubtracted"
      ]
     },
     "execution_count": 2,
     "metadata": {},
     "output_type": "execute_result"
    }
   ],
   "source": [
    "function makeMask(r_out, r_in=0.0, AA=0.0; normalize=true)\n",
    "    @assert(AA>=0.0, \"Antialiasing border size cannot be negative!\")\n",
    "    mask = zeros(Float64, 2*r_out+1, 2*r_out+1)\n",
    "    cen = (r_out+1, r_out+1)\n",
    "    for x in -r_out:r_out\n",
    "        for y in -r_out:r_out\n",
    "            l = sqrt(x^2 + y^2)\n",
    "            if r_in <= l < r_out + AA/2\n",
    "                if l < r_out - AA/2\n",
    "                    mask[x+cen[1], y+cen[2]] = 1.0\n",
    "                else\n",
    "                    mask[x+cen[1], y+cen[2]] = (r_out + AA/2 - l)/AA\n",
    "                end\n",
    "            end\n",
    "        end\n",
    "    end \n",
    "    \n",
    "    return normalize ? mask/sum(mask) : mask\n",
    "end\n",
    "\n",
    "\"\"\"\n",
    "    makeInnerMask(r_in[, AA=0.0])\n",
    "\n",
    "Create a matrix filled with a ring of non-zero floats.\n",
    "The sum of matrix is normalized to be equal to 1.0.\n",
    "\n",
    "# Arguments\n",
    "* `r_in::Int`: the inner radius of the ring. Must be smaller than r_out.\n",
    "* `AA::Float64`: Thickness of antialiasing. 0.0 means no antialiasing.\n",
    "\"\"\"\n",
    "function makeInnerMask(r_in, AA=0.0; verbose=false)::Array{Float64,2}\n",
    "    mask = makeMask(r_in, 0.0, AA)\n",
    "    if verbose; plt[:figure](); plt[:axis](\"off\"); plt[:imshow](mask) end\n",
    "    return mask\n",
    "end\n",
    "\n",
    "\"\"\"\n",
    "    makeOuterMask(r_out, r_in[, AA=false])\n",
    "\n",
    "Create a matrix filled with a ring of non-zero floats.\n",
    "The sum of matrix is normalized to be equal to 1.0.\n",
    "\n",
    "# Arguments\n",
    "* `r_out::Int64`: the outer radius of the ring. Must be greater than r_in.\n",
    "* `r_in::Int64`: the inner radius of the ring. Must be smaller than r_out.\n",
    "* `AA`: Thickness of antialiasing. 0.0 means no antialiasing.\n",
    "\n",
    "\"\"\"\n",
    "function makeOuterMask(r_out, r_in, AA=0.0; verbose=false, subtract=false)::Array{Float64,2}\n",
    "    if subtract\n",
    "        mask = makeOuterMaskSubtracted(r_out, r_in, AA)\n",
    "    else\n",
    "        mask = makeMask(r_out, r_in, AA)\n",
    "    end\n",
    "\n",
    "    if verbose; plt[:figure](); plt[:axis](\"off\"); plt[:imshow](mask) end\n",
    "    return mask\n",
    "end\n",
    "\n",
    "\"\"\"\n",
    "In this version, the inner mask is subtracted. Using antialiasing, this will lead to an continuous transition from inner to outer.\n",
    "For further information, see 'makeOuterMask'.\n",
    "\"\"\"\n",
    "function makeOuterMaskSubtracted(r_out, r_in, AA=0.0; verbose=false)::Array{Float64,2}\n",
    "    mask = makeMask(r_out, 0.0, AA; normalize=false)\n",
    "    \n",
    "    # make the hole of the ring\n",
    "    #mask_sub = zeros(Float64, 2*r_out+1, 2*r_out+1)\n",
    "    mask_in = makeMask(r_in, 0.0, AA, normalize=false)\n",
    "    println(size(mask_in))\n",
    "    println(size(mask))\n",
    "    println(size(mask[r_out-r_in+1:r_out+r_in+1, r_out-r_in+1:r_out+r_in+1]))\n",
    "    flush(STDOUT)\n",
    "    mask[r_out-r_in+1:r_out+r_in+1,r_out-r_in+1:r_out+r_in+1] -= mask_in\n",
    "    \n",
    "    #normalize mask, so that sum(mask) == 1.0\n",
    "    mask /= sum(mask)\n",
    "    \n",
    "    if verbose; plt[:figure](); plt[:axis](\"off\"); plt[:imshow](mask) end\n",
    "    return mask\n",
    "end"
   ]
  },
  {
   "cell_type": "code",
   "execution_count": 3,
   "metadata": {
    "collapsed": false
   },
   "outputs": [
    {
     "data": {
      "text/plain": [
       "initaa"
      ]
     },
     "execution_count": 3,
     "metadata": {},
     "output_type": "execute_result"
    }
   ],
   "source": [
    "function splat!(aa, ny, nx, ra; round=true)\n",
    "\tx = floor(Int64, rand()*nx)+1\n",
    "\ty = floor(Int64, rand()*ny)+1\n",
    "\tc = max(0.5, rand()) # val ∈ [0.5, 1.0]\n",
    "\n",
    "    for dx in -ra:ra\n",
    "        for dy in -ra:ra\n",
    "            ix = x+dx\n",
    "            iy = y+dy\n",
    "            if 1<=ix<=nx && 1<=iy<=ny && (!round || round && sqrt(dx^2+dy^2) <= ra)\n",
    "                aa[ix,iy] = c\n",
    "            end\n",
    "        end\n",
    "    end\n",
    "    \n",
    "    return aa\n",
    "end\n",
    "\n",
    "\"\"\"\n",
    "returns a grid initiated with splats\n",
    "    \n",
    "#Arguments\n",
    "*`ny`: height\n",
    "*`nx`: width\n",
    "*`ra`: outer radius\n",
    "\"\"\"\n",
    "function initaa(ny, nx, ra)::Array{Float64,2}\n",
    "\taa = zeros(Float64, ny,nx)\n",
    "\tfor t in 0:((nx/ra)*(ny/ra))\n",
    "\t\tsplat!(aa, ny, nx, ra)\n",
    "\tend\n",
    "    return aa\n",
    "end"
   ]
  },
  {
   "cell_type": "code",
   "execution_count": 4,
   "metadata": {
    "collapsed": false
   },
   "outputs": [
    {
     "data": {
      "text/plain": [
       "snm (generic function with 1 method)"
      ]
     },
     "execution_count": 4,
     "metadata": {},
     "output_type": "execute_result"
    }
   ],
   "source": [
    "#Hack: in the paper, λ is different for n and m! The smoothness allows us to use smaller masks for similar precision\n",
    "function σ1(x::Float64, a::Float64)\n",
    "    return 1.0 ./ (1.0 + exp(-4.0.*(x-a))) \n",
    "end\n",
    "\n",
    "function σ2(x::Float64, a::Float64, b::Float64)\n",
    "    return σ1(x,a).*(1.0 - σ1(x,b))\n",
    "end\n",
    "\n",
    "function σm(x::Float64, y::Float64, m::Float64)\n",
    "    return x.*(1.0 - σ1(m, 0.5)) + y.*σ1(m, 0.5)\n",
    "end\n",
    "\n",
    "\"\"\"\n",
    "Evaluate inner and outer filling of a cell. The used formulars and constants were proposed for smooth, stable gliders.\n",
    "These can be found in the original smoothlife paper from 2011.\n",
    "\n",
    "The function is a mapping of [0,1) x [0,1) ⟶ [0,1).\n",
    "\n",
    "#Arguments\n",
    "* `n::Float64`: outer filling ∈ [0,1]\n",
    "* `m::Float64`: inner filling ∈ [0,1]\n",
    "\"\"\"\n",
    "function s(n::Float64, m::Float64)\n",
    "    #Note: birth interval [b1,b2] and death interval [d1, d2]. Values based on original paper\n",
    "    const b1 = 0.278\n",
    "    const b2 = 0.365\n",
    "    const d1 = 0.267\n",
    "    const d2 = 0.445\n",
    "    return σ2(n, σm(b1,d1,m), σm(b2,d2,m))\n",
    "end\n",
    "\n",
    "\"\"\"\n",
    "smoothed integral step into the next generation.\n",
    "    f(x, t + dt) = f(x) + dt * (2*s(n,m)-1) * f(x)\n",
    "\n",
    "#Arguments\n",
    "* `f::Float64`: value of the current cell (x,y) with f = f(x,y), n = mask_outer(x,y) , m = mask_inner(x,y)\n",
    "* `n::Float64`: outer filling ∈ [0,1)\n",
    "* `m::Float64`: inner filling ∈ [0,1)\n",
    "* `dt::Float64`: distance in time\n",
    "\"\"\"\n",
    "function smoothStep(f::Float64, n::Float64, m::Float64, dt::Float64)\n",
    "    #return f + dt*(2*s(n,m)-1)\n",
    "    return f + dt*(2*snm(n,m)-1)\n",
    "end\n",
    "\n",
    "function smoothStep(f::Float64, n::Float64, m::Float64)\n",
    "    return s(n,m)*f\n",
    "end\n",
    "\n",
    "# alternative solution\n",
    "sigmoid_a(x, a, b) =  1 ./(1+exp(-4(x-a)/b))\n",
    "\n",
    "sigmoid_b(x, b, eb) = 1 - sigmoid_a(x, b, eb)\n",
    "\n",
    "sigmoid_ab(x, a, b, ea, eb) = sigmoid_a(x, a, ea) .* sigmoid_b(x, b, eb)\n",
    "\n",
    "function sigmoid_mix(x, y, m, em)\n",
    "    return x.*(1-sigmoid_a(m, 0.5, em)) + y.*sigmoid_a(m, 0.5, em)\n",
    "end\n",
    "\n",
    "function snm(n, m)\n",
    "    const b1 = 0.278\n",
    "    const b2 = 0.365\n",
    "    const d1 = 0.267\n",
    "    const d2 = 0.445\n",
    "    const alphan = 0.028\n",
    "    const alpham = 0.147\n",
    "    return sigmoid_ab(n, sigmoid_mix(b1, d1, m, alpham), sigmoid_mix(b2, d2, m, alpham), alphan, alphan)\n",
    "end\n"
   ]
  },
  {
   "cell_type": "code",
   "execution_count": 5,
   "metadata": {
    "collapsed": false
   },
   "outputs": [
    {
     "data": {
      "text/plain": [
       "getGrid (generic function with 4 methods)"
      ]
     },
     "execution_count": 5,
     "metadata": {},
     "output_type": "execute_result"
    }
   ],
   "source": [
    "function getGrid(width=100, height=100, random=true; r_out=21)::Tuple{Array{Float64,2}, Array{Float64,2}}\n",
    "    if random\n",
    "        #return (rand(width, height), Array{Float64,2}(width, height))\n",
    "        return (initaa(height, width, r_out), Array{Float64, 2}(width, height))\n",
    "    else\n",
    "        return (zeros(Float64, width, height), Array{Float64,2}(width, height))\n",
    "    end\n",
    "end"
   ]
  },
  {
   "cell_type": "code",
   "execution_count": 6,
   "metadata": {
    "collapsed": false
   },
   "outputs": [
    {
     "name": "stdout",
     "output_type": "stream",
     "text": [
      "(19,19)\n",
      "(55,55)\n",
      "(19,19)\n"
     ]
    },
    {
     "name": "stderr",
     "output_type": "stream",
     "text": [
      "\u001b[1m\u001b[31mWARNING: assuming that the origin is at the center of the kernel; to avoid this warning, call `centered(kernel)` or use an OffsetArray\u001b[0m\n",
      " in depwarn(::"
     ]
    },
    {
     "data": {
      "image/png": "[encoded data removed]",
      "text/plain": [
       "PyPlot.Figure(PyObject <matplotlib.figure.Figure object at 0x7faf5adad290>)"
      ]
     },
     "metadata": {},
     "output_type": "display_data"
    },
    {
     "data": {
      "image/png": "[encoded data removed]",
      "text/plain": [
       "PyPlot.Figure(PyObject <matplotlib.figure.Figure object at 0x7faf80090210>)"
      ]
     },
     "metadata": {},
     "output_type": "display_data"
    },
    {
     "name": "stderr",
     "output_type": "stream",
     "text": [
      "String, ::Symbol) at ./deprecated.jl:64\n",
      " in _kernelshift at /home/xentrics/.julia/v0.5/ImageFiltering/src/imfilter.jl:1049 [inlined]\n",
      " in kernelshift at /home/xentrics/.julia/v0.5/ImageFiltering/src/imfilter.jl:1046 [inlined]\n",
      " in factorstridedkernel(::Tuple{Base.OneTo{Int64},Base.OneTo{Int64}}, ::Array{Float64,2}) at /home/xentrics/.julia/v0.5/ImageFiltering/src/imfilter.jl:1036\n",
      " in factorkernel(::Array{Float64,2}) at /home/xentrics/.julia/v0.5/ImageFiltering/src/imfilter.jl:1024\n",
      " in imfilter at /home/xentrics/.julia/v0.5/ImageFiltering/src/imfilter.jl:10 [inlined]\n",
      " in imfilter at /home/xentrics/.julia/v0.5/ImageFiltering/src/imfilter.jl:5 [inlined]\n",
      " in imfilter(::Array{Float64,2}, ::Array{Float64,2}, ::String, ::ImageFiltering.Algorithm.FFT) at /home/xentrics/.julia/v0.5/ImageFiltering/src/deprecated.jl:49\n",
      " in imfilter_fft(::Array{Float64,2}, ::Array{Float64,2}, ::String, ::Int64) at /home/xentrics/.julia/v0.5/ImageFiltering/src/deprecated.jl:58\n",
      " in macro expansion; at ./In[6]:19 [inlined]\n",
      " in anonymous at ./<missing>:?\n",
      " in include_string(::String, ::String) at ./loading.jl:441\n",
      " in execute_request(::ZMQ.Socket, ::IJulia.Msg) at /home/xentrics/.julia/v0.5/IJulia/src/execute_request.jl:156\n",
      " in eventloop(::ZMQ.Socket) at /home/xentrics/.julia/v0.5/IJulia/src/eventloop.jl:8\n",
      " in (::IJulia.##13#19)() at ./task.jl:360\n",
      "while loading In[6], in expression starting on line 17\n"
     ]
    }
   ],
   "source": [
    "# initiation\n",
    "showOnConsole=false\n",
    "sleepTime=0.1\n",
    "runs = 1\n",
    "r_in = 9\n",
    "r_out = 3*r_in\n",
    "dt = 0.05\n",
    "grid_width = 512\n",
    "grid_height = 512\n",
    "(curGrid, newGrid) = getGrid(grid_width, grid_height; r_out=r_out)\n",
    "mask_in = makeInnerMask(r_in, 1.0; verbose=false)\n",
    "mask_out = makeOuterMask(r_out, r_in, 1.0; verbose=false, subtract=true)\n",
    "\n",
    "plt[:axis](\"off\")\n",
    "im = plt[:imshow](curGrid, cmap=cm.Greys_r, vmin = 0.0, vmax = 1.0)\n",
    "\n",
    "for run in 1:runs\n",
    "    # step\n",
    "    convInner = imfilter_fft(curGrid, mask_in, \"circular\")\n",
    "    convOuter = imfilter_fft(curGrid, mask_out, \"circular\") # fft is faster for masks greater 20x20\n",
    "    #plt[:figure](); plt[:axis](\"off\"); plt[:imshow](convInner, cmap=cm.Greys_r)\n",
    "    #plt[:figure](); plt[:axis](\"off\"); plt[:imshow](convOuter, cmap=cm.Greys_r)\n",
    "    for x in 1:grid_width\n",
    "        for y in 1:grid_height\n",
    "            newGrid[x,y] = smoothStep(curGrid[x,y], convOuter[x,y], convInner[x,y], dt)\n",
    "        end\n",
    "    end\n",
    "\n",
    "    # swap\n",
    "    curGrid = newGrid\n",
    "    newGrid = zeros(Float64, grid_width, grid_height)\n",
    "\n",
    "    if showOnConsole\n",
    "        im[:set_data](curGrid)\n",
    "        plt[:draw]()\n",
    "        sleep(sleepTime)\n",
    "    else\n",
    "        plt[:figure](); plt[:axis](\"off\"); plt[:imshow](curGrid, cmap=cm.Greys_r, vmin = 0.0, vmax = 1.0)\n",
    "    end\n",
    "end"
   ]
  },
  {
   "cell_type": "code",
   "execution_count": 7,
   "metadata": {
    "collapsed": false
   },
   "outputs": [
    {
     "data": {
      "text/plain": [
       "simulate"
      ]
     },
     "execution_count": 7,
     "metadata": {},
     "output_type": "execute_result"
    }
   ],
   "source": [
    "\"\"\"\n",
    "Start the smoothlife simulation. All results are estimates. Smaller time steps and greater masks improve resolution\n",
    "but increase computation time also.\n",
    "\n",
    "#Arguments\n",
    "* `iterations` : The number of total convolutions\n",
    "* `step_dist` : How much the time passes between two calculations. The greater, the rougher the estimation.\n",
    "* `radius_inner::Int64` : Size of the inner ring. Greater radius takes more computation time, but improves precision.\n",
    "* `radius_outer::Int64` : Size of outer Ring. Greater radius takes more computation time, but improves precision. Must be greater than radius_inner. Use 3*radius_inner for best results.\n",
    "\"\"\"\n",
    "function simulate()\n",
    "    \n",
    "end"
   ]
  },
  {
   "cell_type": "code",
   "execution_count": 8,
   "metadata": {
    "collapsed": false
   },
   "outputs": [
    {
     "data": {
      "image/png": "[encoded data removed]",
      "text/plain": [
       "PyPlot.Figure(PyObject <matplotlib.figure.Figure object at 0x7faf442b3490>)"
      ]
     },
     "metadata": {},
     "output_type": "display_data"
    },
    {
     "data": {
      "text/plain": [
       "PyObject <matplotlib.image.AxesImage object at 0x7faf441cc610>"
      ]
     },
     "execution_count": 8,
     "metadata": {},
     "output_type": "execute_result"
    }
   ],
   "source": [
    "plt[:figure](); plt[:axis](\"off\"); plt[:imshow](mask_out, cmap=\"gray\")"
   ]
  },
  {
   "cell_type": "code",
   "execution_count": null,
   "metadata": {
    "collapsed": false
   },
   "outputs": [],
   "source": []
  },
  {
   "cell_type": "code",
   "execution_count": 9,
   "metadata": {
    "collapsed": false
   },
   "outputs": [
    {
     "name": "stdout",
     "output_type": "stream",
     "text": [
      "search:\n",
      "\n"
     ]
    },
    {
     "data": {
      "text/markdown": [
       "```\n",
       "makeInnerMask(r_in[, AA=0.0])\n",
       "```\n",
       "\n",
       "Create a matrix filled with a ring of non-zero floats. The sum of matrix is normalized to be equal to 1.0.\n",
       "\n",
       "# Arguments\n",
       "\n",
       "  * `r_in::Int`: the inner radius of the ring. Must be smaller than r_out.\n",
       "  * `AA::Float64`: Thickness of antialiasing. 0.0 means no antialiasing.\n"
      ],
      "text/plain": [
       "```\n",
       "makeInnerMask(r_in[, AA=0.0])\n",
       "```\n",
       "\n",
       "Create a matrix filled with a ring of non-zero floats. The sum of matrix is normalized to be equal to 1.0.\n",
       "\n",
       "# Arguments\n",
       "\n",
       "  * `r_in::Int`: the inner radius of the ring. Must be smaller than r_out.\n",
       "  * `AA::Float64`: Thickness of antialiasing. 0.0 means no antialiasing.\n"
      ]
     },
     "execution_count": 9,
     "metadata": {},
     "output_type": "execute_result"
    }
   ],
   "source": [
    "?makeInnerMask"
   ]
  },
  {
   "cell_type": "code",
   "execution_count": null,
   "metadata": {
    "collapsed": false
   },
   "outputs": [],
   "source": []
  },
  {
   "cell_type": "code",
   "execution_count": null,
   "metadata": {
    "collapsed": false
   },
   "outputs": [],
   "source": []
  },
  {
   "cell_type": "code",
   "execution_count": null,
   "metadata": {
    "collapsed": false
   },
   "outputs": [],
   "source": []
  },
  {
   "cell_type": "code",
   "execution_count": null,
   "metadata": {
    "collapsed": true
   },
   "outputs": [],
   "source": []
  },
  {
   "cell_type": "code",
   "execution_count": null,
   "metadata": {
    "collapsed": true
   },
   "outputs": [],
   "source": []
  }
 ],
 "metadata": {
  "kernelspec": {
   "display_name": "Julia 0.5.2-pre",
   "language": "julia",
   "name": "julia-0.5"
  },
  "language_info": {
   "file_extension": ".jl",
   "mimetype": "application/julia",
   "name": "julia",
   "version": "0.5.2"
  }
 },
 "nbformat": 4,
 "nbformat_minor": 2
}
